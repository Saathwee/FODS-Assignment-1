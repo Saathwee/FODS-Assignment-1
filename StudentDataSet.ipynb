{
 "cells": [
  {
   "cell_type": "code",
   "execution_count": 8,
   "metadata": {},
   "outputs": [
    {
     "name": "stdout",
     "output_type": "stream",
     "text": [
      "Features in dataset:\n",
      "--------------------\n",
      "Index(['ID', 'Name', 'Gender', 'DOB', 'Dept', 'Sem'], dtype='object')\n",
      "\n",
      "Data types:\n",
      "-----------\n",
      "ID         int64\n",
      "Name      object\n",
      "Gender    object\n",
      "DOB       object\n",
      "Dept      object\n",
      "Sem        int64\n",
      "dtype: object\n",
      "\n",
      "Five point Feature:\n",
      "-------------------\n",
      "              ID        Sem\n",
      "count  12.000000  12.000000\n",
      "mean    6.500000   3.583333\n",
      "std     3.605551   2.151462\n",
      "min     1.000000   1.000000\n",
      "25%     3.750000   2.000000\n",
      "50%     6.500000   3.500000\n",
      "75%     9.250000   5.000000\n",
      "max    12.000000   8.000000\n",
      "\n",
      "Understanding and Action:\n",
      "-------------------------\n",
      "I examined a student dataset using Python and pandas. I identified the dataset's features, checked their data types, and generated basic statistics. The dataset includes ID, Name, Gender, Date of Birth, Department, and Semester. Next steps include cleaning the data, encoding categorical variables, and normalizing numerical data. This prepares the data for further analysis, such as visualizations and predictive modeling.\n"
     ]
    }
   ],
   "source": [
    "# FODS Assignment-1. submitted by S.SAATHWEE , AI-DS 'A' section.\n",
    "\n",
    "\n",
    "# Import necessary libraries\n",
    "import pandas as pd\n",
    "\n",
    "# 1. Import dataset\n",
    "data = pd.read_csv('G:\\stu.csv')\n",
    "\n",
    "# 2. Identify features\n",
    "print(\"Features in dataset:\")\n",
    "print(\"--------------------\")\n",
    "features = data.columns\n",
    "print(features)\n",
    "print(\"\")\n",
    "\n",
    "# 3. Identify datatype of each feature\n",
    "print(\"Data types:\")\n",
    "print(\"-----------\")\n",
    "print(data.dtypes)\n",
    "print(\"\")\n",
    "\n",
    "# 4. Five-point summary\n",
    "print(\"Five point Feature:\")\n",
    "print(\"-------------------\")\n",
    "print(data.describe())\n",
    "print(\"\")\n",
    "\n",
    "# 5. Understanding and action\n",
    "print(\"Understanding and Action:\")\n",
    "print(\"-------------------------\")\n",
    "print(\"I examined a student dataset using Python and pandas. I identified the dataset's features, checked their data types, and generated basic statistics. The dataset includes ID, Name, Gender, Date of Birth, Department, and Semester. Next steps include cleaning the data, encoding categorical variables, and normalizing numerical data. This prepares the data for further analysis, such as visualizations and predictive modeling.\")"
   ]
  },
  {
   "cell_type": "code",
   "execution_count": null,
   "metadata": {},
   "outputs": [],
   "source": []
  },
  {
   "cell_type": "code",
   "execution_count": null,
   "metadata": {},
   "outputs": [],
   "source": []
  }
 ],
 "metadata": {
  "kernelspec": {
   "display_name": "Python 3",
   "language": "python",
   "name": "python3"
  },
  "language_info": {
   "codemirror_mode": {
    "name": "ipython",
    "version": 3
   },
   "file_extension": ".py",
   "mimetype": "text/x-python",
   "name": "python",
   "nbconvert_exporter": "python",
   "pygments_lexer": "ipython3",
   "version": "3.8.3"
  }
 },
 "nbformat": 4,
 "nbformat_minor": 4
}
